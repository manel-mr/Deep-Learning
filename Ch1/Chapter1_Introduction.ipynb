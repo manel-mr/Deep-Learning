{
  "nbformat": 4,
  "nbformat_minor": 0,
  "metadata": {
    "colab": {
      "name": "Chapter1_Introduction.ipynb",
      "provenance": [],
      "collapsed_sections": [],
      "authorship_tag": "ABX9TyMDzKMbvDhyqVfk7DWHd1Cf",
      "include_colab_link": true
    },
    "kernelspec": {
      "name": "python3",
      "display_name": "Python 3"
    }
  },
  "cells": [
    {
      "cell_type": "markdown",
      "metadata": {
        "id": "view-in-github",
        "colab_type": "text"
      },
      "source": [
        "<a href=\"https://colab.research.google.com/github/manel-mr/Deep-Learning/blob/main/Ch1/Chapter1_Introduction.ipynb\" target=\"_parent\"><img src=\"https://colab.research.google.com/assets/colab-badge.svg\" alt=\"Open In Colab\"/></a>"
      ]
    },
    {
      "cell_type": "code",
      "metadata": {
        "id": "y_xwT19gc4OE"
      },
      "source": [
        ""
      ],
      "execution_count": null,
      "outputs": []
    },
    {
      "cell_type": "markdown",
      "metadata": {
        "id": "2FY2jhXvdXbr"
      },
      "source": [
        "# Chapter 1. Introduction to deep learning\n",
        "\n",
        "In this chapter we introduced the standard dense neural network. The concepts to be learnt in this chapter are:\n",
        "\n",
        " We first introduce the concepts of neuron and neuron activation. Later,  "
      ]
    },
    {
      "cell_type": "markdown",
      "metadata": {
        "id": "7r9wye_LdfEp"
      },
      "source": [
        "# A neuron\n",
        "\n",
        "In this exercise we will build"
      ]
    },
    {
      "cell_type": "code",
      "metadata": {
        "id": "bNwepTPydl7C"
      },
      "source": [
        ""
      ],
      "execution_count": null,
      "outputs": []
    }
  ]
}