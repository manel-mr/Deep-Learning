{
  "nbformat": 4,
  "nbformat_minor": 0,
  "metadata": {
    "colab": {
      "name": "Chapter1_Introduction.ipynb",
      "provenance": [],
      "collapsed_sections": [],
      "authorship_tag": "ABX9TyOFtKk4B5qgbw6ydOeLzASJ",
      "include_colab_link": true
    },
    "kernelspec": {
      "name": "python3",
      "display_name": "Python 3"
    }
  },
  "cells": [
    {
      "cell_type": "markdown",
      "metadata": {
        "id": "view-in-github",
        "colab_type": "text"
      },
      "source": [
        "<a href=\"https://colab.research.google.com/github/manel-mr/Deep-Learning/blob/main/Ch1/Chapter1_Introduction.ipynb\" target=\"_parent\"><img src=\"https://colab.research.google.com/assets/colab-badge.svg\" alt=\"Open In Colab\"/></a>"
      ]
    },
    {
      "cell_type": "code",
      "metadata": {
        "id": "y_xwT19gc4OE"
      },
      "source": [
        ""
      ],
      "execution_count": null,
      "outputs": []
    },
    {
      "cell_type": "markdown",
      "metadata": {
        "id": "2FY2jhXvdXbr"
      },
      "source": [
        "# Chapter 1. Introduction to deep learning\n",
        "\n",
        "\n",
        "## Summary\n",
        "In this chapter we introduced the standard dense neural network.\n",
        "\n",
        "## Learning objectives\n",
        "*   The concept of neuron\n",
        "*   Types of activations\n",
        "*   The Neural network structure\n",
        "*   The optimization criteria\n",
        "*   The Backpropagation algorithm \n",
        "\n",
        "## Materials\n",
        "\n",
        "## Activities\n",
        "\n",
        "## Supplementary materials\n",
        "  "
      ]
    },
    {
      "cell_type": "markdown",
      "metadata": {
        "id": "7r9wye_LdfEp"
      },
      "source": [
        "# A neuron\n",
        "\n",
        "In this example we start using some basic Python to create a 2 dimensional set of data of two classes, that will be later represented in a graph. Then, the structure of a single neuron will be coded and trained unsing the MMSE criterion. The  result of the classification will also be represented. "
      ]
    },
    {
      "cell_type": "code",
      "metadata": {
        "id": "bNwepTPydl7C"
      },
      "source": [
        ""
      ],
      "execution_count": null,
      "outputs": []
    }
  ]
}